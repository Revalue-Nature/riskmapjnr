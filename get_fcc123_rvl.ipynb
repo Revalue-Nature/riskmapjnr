{
 "cells": [
  {
   "cell_type": "markdown",
   "id": "5f85f298-3760-4991-bb94-2a142f761a89",
   "metadata": {},
   "source": [
    "Input: Hansen forest change script  \n",
    "https://github.com/Revalue-Nature/notebooks-early-assessment/blob/main/Global_Hansen_ForestChange_v4.ipynb"
   ]
  },
  {
   "cell_type": "code",
   "execution_count": 12,
   "id": "1124d864-e111-4db9-bfb1-1a3e793f4872",
   "metadata": {},
   "outputs": [],
   "source": [
    "%matplotlib inline\n",
    "import tkinter as ttk\n",
    "from tkinter import Tk, filedialog, simpledialog, messagebox\n",
    "import os\n",
    "import geopandas as gpd\n",
    "import pandas as pd\n",
    "import rasterio\n",
    "from rasterio.plot import show\n",
    "from rasterio.warp import reproject, Resampling, calculate_default_transform\n",
    "import numpy as np\n",
    "from osgeo import gdal"
   ]
  },
  {
   "cell_type": "markdown",
   "id": "071df78a-e862-42f0-b49f-50254aedd252",
   "metadata": {},
   "source": [
    "### Specify input variables"
   ]
  },
  {
   "cell_type": "code",
   "execution_count": 13,
   "id": "5c4d6d30-6846-48f3-b3ca-1a903be3f464",
   "metadata": {},
   "outputs": [],
   "source": [
    "# Specify input name \n",
    "jurisdictionname = \"Sofala\"\n",
    "jrd_column_name = \"NAME_1\"\n",
    "projection = \"EPSG:32737\""
   ]
  },
  {
   "cell_type": "code",
   "execution_count": 14,
   "id": "31a296ed-8843-42ee-98fd-6c94bcbe12e4",
   "metadata": {},
   "outputs": [],
   "source": [
    "# Specify time period\n",
    "t1 = 2015\n",
    "t2 = 2021"
   ]
  },
  {
   "cell_type": "code",
   "execution_count": 15,
   "id": "2d3cde09-c932-48f0-9a35-6fbed5d02b7f",
   "metadata": {},
   "outputs": [
    {
     "name": "stderr",
     "output_type": "stream",
     "text": [
      "2023-05-31 19:43:14.934 Python[9770:715543] +[CATransaction synchronize] called within transaction\n",
      "2023-05-31 19:43:14.951 Python[9770:715543] +[CATransaction synchronize] called within transaction\n",
      "2023-05-31 19:43:17.273 Python[9770:715543] +[CATransaction synchronize] called within transaction\n",
      "2023-05-31 19:43:37.440 Python[9770:715543] +[CATransaction synchronize] called within transaction\n",
      "2023-05-31 19:43:50.122 Python[9770:715543] +[CATransaction synchronize] called within transaction\n"
     ]
    }
   ],
   "source": [
    "root = Tk() # pointing root to Tk() to use it as Tk() in program.\n",
    "root.withdraw() # Hides small tkinter window.\n",
    "root.attributes('-topmost', True) # Opened windows will be active. above all windows despite of selection.\n",
    "jrd_directory = filedialog.askopenfile(title=\"Open Jurisdiction Shapefile\") # Returns opened path as st\n",
    "# Raster folder\n",
    "raster_directory = filedialog.askdirectory(title = \"Specify Raster Folder Directory\")\n",
    "# Output folder\n",
    "output_directory = filedialog.askdirectory(title = \"Specify Output Folder\")"
   ]
  },
  {
   "cell_type": "code",
   "execution_count": 16,
   "id": "430911d0-0b0a-41e6-b1e8-05535779684f",
   "metadata": {},
   "outputs": [],
   "source": [
    "# output directory\n",
    "out_dir = os.path.expanduser(output_directory+'/data')\n",
    "if not os.path.exists(out_dir):\n",
    "    os.makedirs(out_dir)"
   ]
  },
  {
   "cell_type": "code",
   "execution_count": 17,
   "id": "9804343d-fc17-43ee-890d-a64284aac7cb",
   "metadata": {},
   "outputs": [],
   "source": [
    "# Jurisdiction\n",
    "jrd = gpd.read_file(jrd_directory.name)\n",
    "\n",
    "# Reproject Shapefile to UTM\n",
    "jrd_proj  = jrd.to_crs(crs=projection)"
   ]
  },
  {
   "cell_type": "markdown",
   "id": "a5ec8b2a-5638-4fc0-9686-73e0942228d7",
   "metadata": {},
   "source": [
    "### Raster data preparation"
   ]
  },
  {
   "cell_type": "code",
   "execution_count": 18,
   "id": "cf3f3f65-66dc-47fd-bedc-8d37da4f2733",
   "metadata": {},
   "outputs": [],
   "source": [
    "# Import Hansen forest change raster\n",
    "fcc_path = os.path.join(raster_directory, jurisdictionname + '_ForestChange_' + str(t1) + '-' + str(t2) + '_jrd.tif').replace(os.sep, '/')\n",
    "fcc_tif = rasterio.open(fcc_path)"
   ]
  },
  {
   "cell_type": "code",
   "execution_count": 19,
   "id": "c3385019-9e7e-4cfa-8b2a-9b3f27038128",
   "metadata": {},
   "outputs": [
    {
     "data": {
      "text/plain": [
       "array([  0, 100, 116, 117, 118, 119, 120, 121], dtype=uint8)"
      ]
     },
     "execution_count": 19,
     "metadata": {},
     "output_type": "execute_result"
    }
   ],
   "source": [
    "np.unique(fcc_tif.read(1))"
   ]
  },
  {
   "cell_type": "code",
   "execution_count": 35,
   "id": "f67ec064-bef9-4cf3-8c8d-57ed2a31305c",
   "metadata": {},
   "outputs": [],
   "source": [
    "# Reclassify raster pixel value\n",
    "# 116-118 = 1\n",
    "# 119-121 = 2\n",
    "# 100 = 3\n",
    "\n",
    "with rasterio.open(fcc_path) as src:    \n",
    "    # Read as numpy array\n",
    "    array = src.read()\n",
    "    profile = src.profile\n",
    "    profile.update(compress='lzw')\n",
    "\n",
    "    # Reclassify\n",
    "    array[((t1 - 2000 +100) < array) & (array <= (t1 - 2000 + 100 + 3))] = 1\n",
    "    array[((t1 - 2000 + 100 + 3) < array) & (array <= (t2 - 2000 +100))] = 2\n",
    "    array[array == 100] = 3\n",
    "    # and so on ...  \n",
    "\n",
    "with rasterio.open(os.path.join(out_dir, jurisdictionname + '_fcc123.tif').replace(os.sep, '/'), 'w', **profile) as dst:\n",
    "    # Write to disk\n",
    "    dst.write(array)"
   ]
  }
 ],
 "metadata": {
  "kernelspec": {
   "display_name": "Python 3 (ipykernel)",
   "language": "python",
   "name": "python3"
  },
  "language_info": {
   "codemirror_mode": {
    "name": "ipython",
    "version": 3
   },
   "file_extension": ".py",
   "mimetype": "text/x-python",
   "name": "python",
   "nbconvert_exporter": "python",
   "pygments_lexer": "ipython3",
   "version": "3.11.3"
  }
 },
 "nbformat": 4,
 "nbformat_minor": 5
}
